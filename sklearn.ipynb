{
 "cells": [
  {
   "cell_type": "markdown",
   "metadata": {},
   "source": [
    "# 高斯朴素贝叶斯\n",
    "> 利用高斯朴素贝叶斯函数来拟合一个模型（函数），使用该模型来检测（预测）原有数据中的data的分类是否与target一致\n",
    "\n",
    "1. 导入相应的包及模块\n",
    "2. 导入数据（iris）\n",
    "3. 实例化高斯朴素贝叶斯分析\n",
    "4. 使用iris数据进行拟合，得到拟合模型\n",
    "5. 使用该模型和iris原始数据进行预测\n",
    "6. 统计预测值与原有数据分类不相同的个数，即原有数据分类错误的个数"
   ]
  },
  {
   "cell_type": "code",
   "execution_count": 36,
   "metadata": {},
   "outputs": [
    {
     "name": "stdout",
     "output_type": "stream",
     "text": [
      "预测值的类型 <class 'numpy.ndarray'>\n",
      "Number of mislabeled points out of a total 150 points : 6\n"
     ]
    }
   ],
   "source": [
    "from sklearn import datasets\n",
    "from sklearn.naive_bayes import GaussianNB\n",
    "iris = datasets.load_iris()\n",
    "gnb = GaussianNB()\n",
    "y_pred = gnb.fit(iris.data, iris.target).predict(iris.data)\n",
    "print('预测值的类型',type(y_pred))\n",
    "print(\"Number of mislabeled points out of a total %d points : %d\"% (iris.data.shape[0],(iris.target != y_pred).sum()))"
   ]
  },
  {
   "cell_type": "code",
   "execution_count": null,
   "metadata": {
    "collapsed": true
   },
   "outputs": [],
   "source": []
  }
 ],
 "metadata": {
  "kernelspec": {
   "display_name": "Python 3",
   "language": "python",
   "name": "python3"
  },
  "language_info": {
   "codemirror_mode": {
    "name": "ipython",
    "version": 3
   },
   "file_extension": ".py",
   "mimetype": "text/x-python",
   "name": "python",
   "nbconvert_exporter": "python",
   "pygments_lexer": "ipython3",
   "version": "3.6.2"
  }
 },
 "nbformat": 4,
 "nbformat_minor": 2
}
